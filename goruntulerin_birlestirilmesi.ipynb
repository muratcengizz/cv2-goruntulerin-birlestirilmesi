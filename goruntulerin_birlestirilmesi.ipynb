{
 "cells": [
  {
   "cell_type": "code",
   "execution_count": 2,
   "id": "fcdbaf4e-113b-4bea-b665-f1c4b7974052",
   "metadata": {},
   "outputs": [],
   "source": [
    "import cv2\n",
    "import numpy as np"
   ]
  },
  {
   "cell_type": "code",
   "execution_count": 3,
   "id": "f715255a-5a34-47f2-b1e5-d94f14f3378e",
   "metadata": {},
   "outputs": [
    {
     "data": {
      "text/plain": [
       "-1"
      ]
     },
     "execution_count": 3,
     "metadata": {},
     "output_type": "execute_result"
    }
   ],
   "source": [
    "img = cv2.imread(filename='lenna.png')\n",
    "cv2.imshow(winname='Orginal', mat=img)\n",
    "cv2.waitKey(0)"
   ]
  },
  {
   "cell_type": "markdown",
   "id": "acaeaf98-ec84-4f7b-98ec-1a54ba111bb1",
   "metadata": {},
   "source": [
    "## Yatay"
   ]
  },
  {
   "cell_type": "code",
   "execution_count": 4,
   "id": "e6b2941e-c334-4bcf-8247-ed60e668ff85",
   "metadata": {},
   "outputs": [
    {
     "data": {
      "text/plain": [
       "-1"
      ]
     },
     "execution_count": 4,
     "metadata": {},
     "output_type": "execute_result"
    }
   ],
   "source": [
    "hor = np.hstack(tup=(img, img))\n",
    "cv2.imshow(winname='Horizontal', mat=hor)\n",
    "cv2.waitKey(0)"
   ]
  },
  {
   "cell_type": "code",
   "execution_count": 5,
   "id": "423ee0eb-b2cf-4e8d-aeaf-7be0a7a9c185",
   "metadata": {},
   "outputs": [
    {
     "data": {
      "text/plain": [
       "-1"
      ]
     },
     "execution_count": 5,
     "metadata": {},
     "output_type": "execute_result"
    }
   ],
   "source": [
    "hor2 = np.hstack(tup=(img, img, img))\n",
    "cv2.imshow(winname='Horizontal', mat=hor2)\n",
    "cv2.waitKey(0)"
   ]
  },
  {
   "cell_type": "markdown",
   "id": "fb3fcb36-c06c-4597-8400-ff698dd95563",
   "metadata": {},
   "source": [
    "## Dikey"
   ]
  },
  {
   "cell_type": "code",
   "execution_count": 6,
   "id": "c0de254b-1a32-4762-aa05-113bcec4588c",
   "metadata": {},
   "outputs": [
    {
     "data": {
      "text/plain": [
       "-1"
      ]
     },
     "execution_count": 6,
     "metadata": {},
     "output_type": "execute_result"
    }
   ],
   "source": [
    "ver = np.vstack(tup=(img, img))\n",
    "cv2.imshow(winname='Vertically', mat=ver)\n",
    "cv2.waitKey(0)"
   ]
  },
  {
   "cell_type": "code",
   "execution_count": 7,
   "id": "af8ebfbd-ca7e-46e7-b985-c6d57ddc33bf",
   "metadata": {},
   "outputs": [
    {
     "data": {
      "text/plain": [
       "-1"
      ]
     },
     "execution_count": 7,
     "metadata": {},
     "output_type": "execute_result"
    }
   ],
   "source": [
    "ver2 = np.vstack(tup=(img, img, img))\n",
    "cv2.imshow(winname='Vertically', mat=ver2)\n",
    "cv2.waitKey(0)"
   ]
  }
 ],
 "metadata": {
  "kernelspec": {
   "display_name": "Python 3 (ipykernel)",
   "language": "python",
   "name": "python3"
  },
  "language_info": {
   "codemirror_mode": {
    "name": "ipython",
    "version": 3
   },
   "file_extension": ".py",
   "mimetype": "text/x-python",
   "name": "python",
   "nbconvert_exporter": "python",
   "pygments_lexer": "ipython3",
   "version": "3.9.12"
  }
 },
 "nbformat": 4,
 "nbformat_minor": 5
}
